{
 "cells": [
  {
   "cell_type": "code",
   "execution_count": 3,
   "id": "f3e67361",
   "metadata": {},
   "outputs": [],
   "source": [
    "import matplotlib as mpl\n",
    "import matplotlib.pyplot as plt\n",
    "import os\n",
    "\n",
    "# 깔끔한 그래프 출력을 위해\n",
    "def init_graph():\n",
    "    mpl.rc('axes', labelsize=14)\n",
    "    mpl.rc('xtick', labelsize=12)\n",
    "    mpl.rc('ytick', labelsize=12)\n",
    "\n",
    "# 그림을 저장할 위치\n",
    "def make_image_dir(CHAPTER_ID):\n",
    "    PROJECT_ROOT_DIR = \".\"\n",
    "    IMAGES_PATH = os.path.join(PROJECT_ROOT_DIR, \"images\", CHAPTER_ID)\n",
    "    os.makedirs(IMAGES_PATH, exist_ok=True)\n",
    "    return IMAGES_PATH\n",
    "\n",
    "def save_fig(fig_id, images_path, tight_layout=True, fig_extension=\"png\", resolution=300):\n",
    "    path = os.path.join(images_path, fig_id + \".\" + fig_extension)\n",
    "    print(\"그림 저장\", fig_id)\n",
    "    if tight_layout:\n",
    "        plt.tight_layout()\n",
    "    plt.savefig(path, format=fig_extension, dpi=resolution)"
   ]
  },
  {
   "cell_type": "code",
   "execution_count": null,
   "id": "88b86c84",
   "metadata": {},
   "outputs": [],
   "source": []
  }
 ],
 "metadata": {
  "kernelspec": {
   "display_name": "Python 3 (ipykernel)",
   "language": "python",
   "name": "python3"
  },
  "language_info": {
   "codemirror_mode": {
    "name": "ipython",
    "version": 3
   },
   "file_extension": ".py",
   "mimetype": "text/x-python",
   "name": "python",
   "nbconvert_exporter": "python",
   "pygments_lexer": "ipython3",
   "version": "3.9.15"
  }
 },
 "nbformat": 4,
 "nbformat_minor": 5
}
